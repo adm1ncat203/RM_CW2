{
 "cells": [
  {
   "cell_type": "code",
   "execution_count": 1,
   "id": "4b48011c",
   "metadata": {
    "ExecuteTime": {
     "end_time": "2025-04-22T15:53:54.741133Z",
     "start_time": "2025-04-22T15:53:54.693569Z"
    }
   },
   "outputs": [],
   "source": [
    "import pandas as pd\n",
    "import numpy as np\n",
    "import matplotlib.pyplot as plt\n",
    "import seaborn as sns\n",
    "import plotly.express as px\n"
   ]
  },
  {
   "cell_type": "code",
   "execution_count": 2,
   "id": "57e71f25",
   "metadata": {
    "ExecuteTime": {
     "end_time": "2025-04-22T15:53:58.447480Z",
     "start_time": "2025-04-22T15:53:58.339763Z"
    }
   },
   "outputs": [
    {
     "name": "stdout",
     "output_type": "stream",
     "text": [
      "<class 'pandas.core.frame.DataFrame'>\n",
      "RangeIndex: 72000 entries, 0 to 71999\n",
      "Data columns (total 24 columns):\n",
      " #   Column          Non-Null Count  Dtype  \n",
      "---  ------          --------------  -----  \n",
      " 0   mc_run_id       72000 non-null  int64  \n",
      " 1   grouping        72000 non-null  object \n",
      " 2   mean_ghgs       72000 non-null  float64\n",
      " 3   mean_land       72000 non-null  float64\n",
      " 4   mean_watscar    72000 non-null  float64\n",
      " 5   mean_eut        72000 non-null  float64\n",
      " 6   mean_ghgs_ch4   72000 non-null  float64\n",
      " 7   mean_ghgs_n2o   72000 non-null  float64\n",
      " 8   mean_bio        72000 non-null  float64\n",
      " 9   mean_watuse     72000 non-null  float64\n",
      " 10  mean_acid       72000 non-null  float64\n",
      " 11  sd_ghgs         72000 non-null  float64\n",
      " 12  sd_land         72000 non-null  float64\n",
      " 13  sd_watscar      72000 non-null  float64\n",
      " 14  sd_eut          72000 non-null  float64\n",
      " 15  sd_ghgs_ch4     72000 non-null  float64\n",
      " 16  sd_ghgs_n2o     72000 non-null  float64\n",
      " 17  sd_bio          72000 non-null  float64\n",
      " 18  sd_watuse       72000 non-null  float64\n",
      " 19  sd_acid         72000 non-null  float64\n",
      " 20  n_participants  72000 non-null  int64  \n",
      " 21  sex             72000 non-null  object \n",
      " 22  diet_group      72000 non-null  object \n",
      " 23  age_group       72000 non-null  object \n",
      "dtypes: float64(18), int64(2), object(4)\n",
      "memory usage: 13.2+ MB\n"
     ]
    }
   ],
   "source": [
    "# load dataset\n",
    "df = pd.read_csv(\"./dataset/Results_21Mar2022.csv\")\n",
    "df.info()\n"
   ]
  },
  {
   "cell_type": "code",
   "execution_count": 3,
   "id": "a991a3a8",
   "metadata": {
    "ExecuteTime": {
     "end_time": "2025-04-22T15:54:01.909666Z",
     "start_time": "2025-04-22T15:54:01.900131Z"
    }
   },
   "outputs": [
    {
     "name": "stdout",
     "output_type": "stream",
     "text": [
      "diet_group: ['fish' 'meat50' 'meat100' 'meat' 'vegan' 'veggie']\n",
      "age_group: ['20-29' '30-39' '40-49' '50-59' '60-69' '70-79']\n",
      "sex: ['female' 'male']\n"
     ]
    }
   ],
   "source": [
    "# unique values\n",
    "print(\"diet_group: {}\".format(df[\"diet_group\"].unique()))\n",
    "print(\"age_group: {}\".format(df[\"age_group\"].unique()))\n",
    "print(\"sex: {}\".format(df[\"sex\"].unique()))\n"
   ]
  },
  {
   "cell_type": "code",
   "execution_count": 4,
   "id": "1b3cbef7b14dd6d6",
   "metadata": {
    "ExecuteTime": {
     "end_time": "2025-04-22T15:54:19.220361Z",
     "start_time": "2025-04-22T15:54:19.213928Z"
    }
   },
   "outputs": [],
   "source": [
    "# convert diet_group labels\n",
    "df['diet_group'] = df['diet_group'].map({\n",
    "    \"meat100\": \"High meat-eaters (>=100g/d)\",\n",
    "    \"meat50\": \"Medium meat-eaters (50-99g/d)\",\n",
    "    \"meat\": \"Low meat-eaters (<50g/d)\",\n",
    "    \"fish\": \"Fish-eaters\",\n",
    "    \"veggie\": \"Vegetarians\",\n",
    "    \"vegan\": \"Vegans\"\n",
    "})\n",
    "# convert sex labels\n",
    "df[\"sex\"] = df[\"sex\"].map({\n",
    "    \"male\": \"Male\",\n",
    "    \"female\": \"Female\"\n",
    "})\n"
   ]
  },
  {
   "cell_type": "code",
   "execution_count": 5,
   "id": "2380e324",
   "metadata": {
    "ExecuteTime": {
     "end_time": "2025-04-22T15:54:25.217592Z",
     "start_time": "2025-04-22T15:54:25.193223Z"
    }
   },
   "outputs": [
    {
     "data": {
      "text/html": [
       "<div>\n",
       "<style scoped>\n",
       "    .dataframe tbody tr th:only-of-type {\n",
       "        vertical-align: middle;\n",
       "    }\n",
       "\n",
       "    .dataframe tbody tr th {\n",
       "        vertical-align: top;\n",
       "    }\n",
       "\n",
       "    .dataframe thead th {\n",
       "        text-align: right;\n",
       "    }\n",
       "</style>\n",
       "<table border=\"1\" class=\"dataframe\">\n",
       "  <thead>\n",
       "    <tr style=\"text-align: right;\">\n",
       "      <th></th>\n",
       "      <th>count</th>\n",
       "      <th>mean</th>\n",
       "      <th>std</th>\n",
       "      <th>min</th>\n",
       "      <th>25%</th>\n",
       "      <th>50%</th>\n",
       "      <th>75%</th>\n",
       "      <th>max</th>\n",
       "    </tr>\n",
       "  </thead>\n",
       "  <tbody>\n",
       "    <tr>\n",
       "      <th>mean_ghgs</th>\n",
       "      <td>72000.0</td>\n",
       "      <td>6.173568</td>\n",
       "      <td>3.090398</td>\n",
       "      <td>1.878054</td>\n",
       "      <td>4.272191</td>\n",
       "      <td>5.460742</td>\n",
       "      <td>7.498673</td>\n",
       "      <td>20.543958</td>\n",
       "    </tr>\n",
       "    <tr>\n",
       "      <th>mean_land</th>\n",
       "      <td>72000.0</td>\n",
       "      <td>10.610860</td>\n",
       "      <td>8.774950</td>\n",
       "      <td>3.085156</td>\n",
       "      <td>5.833910</td>\n",
       "      <td>7.634004</td>\n",
       "      <td>11.766317</td>\n",
       "      <td>74.490099</td>\n",
       "    </tr>\n",
       "    <tr>\n",
       "      <th>mean_watscar</th>\n",
       "      <td>72000.0</td>\n",
       "      <td>18324.502556</td>\n",
       "      <td>5761.426137</td>\n",
       "      <td>5581.200606</td>\n",
       "      <td>14473.366153</td>\n",
       "      <td>17340.934265</td>\n",
       "      <td>20962.489797</td>\n",
       "      <td>57642.741520</td>\n",
       "    </tr>\n",
       "    <tr>\n",
       "      <th>mean_eut</th>\n",
       "      <td>72000.0</td>\n",
       "      <td>24.619412</td>\n",
       "      <td>10.440526</td>\n",
       "      <td>7.403603</td>\n",
       "      <td>17.490146</td>\n",
       "      <td>22.741543</td>\n",
       "      <td>30.143916</td>\n",
       "      <td>85.043624</td>\n",
       "    </tr>\n",
       "    <tr>\n",
       "      <th>mean_ghgs_ch4</th>\n",
       "      <td>72000.0</td>\n",
       "      <td>1.137918</td>\n",
       "      <td>0.773895</td>\n",
       "      <td>0.065370</td>\n",
       "      <td>0.664186</td>\n",
       "      <td>0.978820</td>\n",
       "      <td>1.492675</td>\n",
       "      <td>5.376923</td>\n",
       "    </tr>\n",
       "    <tr>\n",
       "      <th>mean_ghgs_n2o</th>\n",
       "      <td>72000.0</td>\n",
       "      <td>0.437283</td>\n",
       "      <td>0.225046</td>\n",
       "      <td>0.123047</td>\n",
       "      <td>0.279034</td>\n",
       "      <td>0.371027</td>\n",
       "      <td>0.529600</td>\n",
       "      <td>1.508414</td>\n",
       "    </tr>\n",
       "    <tr>\n",
       "      <th>mean_bio</th>\n",
       "      <td>72000.0</td>\n",
       "      <td>274.693823</td>\n",
       "      <td>158.917024</td>\n",
       "      <td>54.748545</td>\n",
       "      <td>163.291618</td>\n",
       "      <td>232.676491</td>\n",
       "      <td>345.247131</td>\n",
       "      <td>1426.913345</td>\n",
       "    </tr>\n",
       "    <tr>\n",
       "      <th>mean_watuse</th>\n",
       "      <td>72000.0</td>\n",
       "      <td>739.712660</td>\n",
       "      <td>318.236794</td>\n",
       "      <td>192.729916</td>\n",
       "      <td>541.813501</td>\n",
       "      <td>692.166596</td>\n",
       "      <td>859.515193</td>\n",
       "      <td>3333.230647</td>\n",
       "    </tr>\n",
       "    <tr>\n",
       "      <th>mean_acid</th>\n",
       "      <td>72000.0</td>\n",
       "      <td>27.552727</td>\n",
       "      <td>11.631872</td>\n",
       "      <td>7.466161</td>\n",
       "      <td>21.159961</td>\n",
       "      <td>25.561232</td>\n",
       "      <td>33.688857</td>\n",
       "      <td>76.266195</td>\n",
       "    </tr>\n",
       "  </tbody>\n",
       "</table>\n",
       "</div>"
      ],
      "text/plain": [
       "                 count          mean          std          min           25%  \\\n",
       "mean_ghgs      72000.0      6.173568     3.090398     1.878054      4.272191   \n",
       "mean_land      72000.0     10.610860     8.774950     3.085156      5.833910   \n",
       "mean_watscar   72000.0  18324.502556  5761.426137  5581.200606  14473.366153   \n",
       "mean_eut       72000.0     24.619412    10.440526     7.403603     17.490146   \n",
       "mean_ghgs_ch4  72000.0      1.137918     0.773895     0.065370      0.664186   \n",
       "mean_ghgs_n2o  72000.0      0.437283     0.225046     0.123047      0.279034   \n",
       "mean_bio       72000.0    274.693823   158.917024    54.748545    163.291618   \n",
       "mean_watuse    72000.0    739.712660   318.236794   192.729916    541.813501   \n",
       "mean_acid      72000.0     27.552727    11.631872     7.466161     21.159961   \n",
       "\n",
       "                        50%           75%           max  \n",
       "mean_ghgs          5.460742      7.498673     20.543958  \n",
       "mean_land          7.634004     11.766317     74.490099  \n",
       "mean_watscar   17340.934265  20962.489797  57642.741520  \n",
       "mean_eut          22.741543     30.143916     85.043624  \n",
       "mean_ghgs_ch4      0.978820      1.492675      5.376923  \n",
       "mean_ghgs_n2o      0.371027      0.529600      1.508414  \n",
       "mean_bio         232.676491    345.247131   1426.913345  \n",
       "mean_watuse      692.166596    859.515193   3333.230647  \n",
       "mean_acid         25.561232     33.688857     76.266195  "
      ]
     },
     "execution_count": 5,
     "metadata": {},
     "output_type": "execute_result"
    }
   ],
   "source": [
    "# select environmental impacts feature columns\n",
    "env_columns = [\n",
    "    \"mean_ghgs\", \"mean_land\", \"mean_watscar\", \"mean_eut\",\n",
    "    \"mean_ghgs_ch4\", \"mean_ghgs_n2o\", \"mean_bio\",\n",
    "    \"mean_watuse\", \"mean_acid\"\n",
    "]\n",
    "\n",
    "df[env_columns].describe().T\n"
   ]
  },
  {
   "cell_type": "code",
   "execution_count": 6,
   "id": "ca0cf96b",
   "metadata": {
    "ExecuteTime": {
     "end_time": "2025-04-22T15:55:15.570574Z",
     "start_time": "2025-04-22T15:55:15.359262Z"
    }
   },
   "outputs": [
    {
     "data": {
      "image/png": "[encoded data removed]",
      "text/plain": [
       "<Figure size 1000x800 with 2 Axes>"
      ]
     },
     "metadata": {},
     "output_type": "display_data"
    }
   ],
   "source": [
    "# calculate correlation matrix\n",
    "corr_matrix = df[env_columns].corr(method='pearson')\n",
    "mask = np.triu(np.ones_like(corr_matrix, dtype=bool))\n",
    "\n",
    "# correlation matrix (heatmap)\n",
    "fig, ax = plt.subplots(figsize=(10, 8))\n",
    "sns.heatmap(\n",
    "    corr_matrix,\n",
    "    mask=mask,\n",
    "    cmap=\"coolwarm\",\n",
    "    vmin=-1,\n",
    "    vmax=1,\n",
    "    annot=True,\n",
    "    fmt=\".2f\",\n",
    "    square=True,\n",
    "    linewidths=0.5,\n",
    "    cbar_kws={\"shrink\": 0.85}\n",
    ")\n",
    "plt.title(\"Correlation Heatmap of Environmental Impact Features\")\n",
    "plt.tight_layout()\n",
    "plt.show()\n"
   ]
  },
  {
   "cell_type": "code",
   "execution_count": null,
   "id": "309142647435192d",
   "metadata": {
    "ExecuteTime": {
     "end_time": "2025-04-22T15:55:38.559591Z",
     "start_time": "2025-04-22T15:55:38.353401Z"
    }
   },
   "outputs": [
    {
     "data": {
      "image/png": "[encoded data removed]",
      "text/plain": [
       "<Figure size 800x600 with 1 Axes>"
      ]
     },
     "metadata": {},
     "output_type": "display_data"
    }
   ],
   "source": [
    "# use PCA to show the importance of environmental impact features\n",
    "from sklearn.decomposition import PCA\n",
    "from sklearn.preprocessing import StandardScaler\n",
    "\n",
    "X_scaled = StandardScaler().fit_transform(df[env_columns])\n",
    "pca = PCA()\n",
    "pca.fit(X_scaled)\n",
    "\n",
    "# visualize weights\n",
    "weights = pd.Series(pca.components_[0], index=env_columns).sort_values(key=abs, ascending=False)\n",
    "weights.plot(kind='barh', figsize=(8, 6), color='skyblue')\n",
    "plt.title(\"Feature Contributions to the First Principal Component\")\n",
    "plt.xlabel(\"PCA Component 1 Weight\")\n",
    "plt.gca().invert_yaxis()\n",
    "plt.tight_layout()\n",
    "plt.show()\n"
   ]
  },
  {
   "cell_type": "markdown",
   "id": "3cfd3169",
   "metadata": {},
   "source": [
    "Use `mean_ghgs` to visualize treemap"
   ]
  },
  {
   "cell_type": "code",
   "execution_count": 43,
   "id": "671bb5759b4b77b5",
   "metadata": {
    "ExecuteTime": {
     "end_time": "2025-04-22T16:03:34.094145Z",
     "start_time": "2025-04-22T16:03:34.041529Z"
    }
   },
   "outputs": [
    {
     "data": {
      "application/vnd.plotly.v1+json": {
       "config": {
        "plotlyServerURL": "https://plot.ly"
       },
       "data": [
        {
         "branchvalues": "total",
         "customdata": [
          [
           4.902947125081,
           1329
          ],
          [
           10.191268743064,
           393
          ],
          [
           6.913346378262,
           669
          ],
          [
           5.386157689429999,
           764
          ],
          [
           2.383216383473,
           487
          ],
          [
           4.319955997758,
           3752
          ],
          [
           4.942664483793,
           2024
          ],
          [
           10.421548409817,
           778
          ],
          [
           7.135581666559999,
           1350
          ],
          [
           5.489000437973,
           1483
          ],
          [
           2.540393020847,
           376
          ],
          [
           4.367724164195001,
           3634
          ],
          [
           4.927040172677,
           1689
          ],
          [
           11.242124224869002,
           1935
          ],
          [
           7.484151329541,
           2710
          ],
          [
           5.604987137323,
           2093
          ],
          [
           2.657602421868,
           219
          ],
          [
           4.386548303825,
           2696
          ],
          [
           4.9443203337909996,
           946
          ],
          [
           11.574401589788,
           1753
          ],
          [
           7.586115661521999,
           2682
          ],
          [
           5.74381054721,
           1698
          ],
          [
           2.520496825096,
           106
          ],
          [
           4.370471444328,
           1203
          ],
          [
           5.103822518681,
           492
          ],
          [
           11.520473391645,
           843
          ],
          [
           7.541230540435001,
           1456
          ],
          [
           5.861660341356,
           1047
          ],
          [
           2.633644804226,
           81
          ],
          [
           4.472485087662,
           536
          ],
          [
           4.990762890714,
           195
          ],
          [
           11.990853394399,
           274
          ],
          [
           7.611196494765,
           450
          ],
          [
           5.836041361839999,
           381
          ],
          [
           2.8398755941779994,
           25
          ],
          [
           4.4734452564780005,
           289
          ],
          [
           5.659688871226,
           163
          ],
          [
           12.104782205645,
           132
          ],
          [
           7.387087141032999,
           151
          ],
          [
           5.842741220846,
           131
          ],
          [
           2.8432283088599997,
           198
          ],
          [
           4.899777121339,
           646
          ],
          [
           5.327205952942,
           412
          ],
          [
           11.178862348943,
           260
          ],
          [
           7.594977983203001,
           304
          ],
          [
           5.923054206146999,
           370
          ],
          [
           2.6981724183040003,
           251
          ],
          [
           4.807758162692999,
           1221
          ],
          [
           5.2018026093489995,
           432
          ],
          [
           11.493864090237999,
           616
          ],
          [
           7.781512620765,
           663
          ],
          [
           5.8985248148350005,
           448
          ],
          [
           2.694366019617,
           165
          ],
          [
           4.610379492209,
           961
          ],
          [
           5.142355789303,
           214
          ],
          [
           11.678040095756,
           591
          ],
          [
           7.752900129514,
           671
          ],
          [
           5.932798636723,
           410
          ],
          [
           2.524737409503,
           62
          ],
          [
           4.455095310198001,
           426
          ],
          [
           5.153826680613,
           159
          ],
          [
           11.450175664626,
           543
          ],
          [
           7.835827297245,
           634
          ],
          [
           5.921724590470999,
           364
          ],
          [
           2.427010725764,
           52
          ],
          [
           4.44484358452,
           229
          ],
          [
           5.303953641929,
           68
          ],
          [
           12.263987428482002,
           168
          ],
          [
           8.023873929639,
           231
          ],
          [
           6.126166528464,
           143
          ],
          [
           2.587986805198,
           19
          ],
          [
           4.612451445292001,
           158
          ],
          [
           4.985620653647779,
           1492
          ],
          [
           10.67238069937008,
           525
          ],
          [
           7.000584006528367,
           820
          ],
          [
           5.452987234251783,
           895
          ],
          [
           2.5161833341688045,
           685
          ],
          [
           4.40512299317258,
           4398
          ],
          [
           5.007701875126903,
           2436
          ],
          [
           10.611241689366866,
           1038
          ],
          [
           7.220017265265847,
           1654
          ],
          [
           5.575670645325607,
           1853
          ],
          [
           2.603555108186246,
           627
          ],
          [
           4.478389769172561,
           4855
          ],
          [
           4.983003101786997,
           2121
          ],
          [
           11.302912839948304,
           2551
          ],
          [
           7.54260094000098,
           3373
          ],
          [
           5.656740336663959,
           2541
          ],
          [
           2.6733992802757736,
           384
          ],
          [
           4.445367492240921,
           3657
          ],
          [
           4.980854460928558,
           1160
          ],
          [
           11.600532288178396,
           2344
          ],
          [
           7.619492451865761,
           3353
          ],
          [
           5.780568192703516,
           2108
          ],
          [
           2.5220618026747736,
           168
          ],
          [
           4.392601442400818,
           1629
          ],
          [
           5.116035516756558,
           651
          ],
          [
           11.49293250725011,
           1386
          ],
          [
           7.630596255180235,
           2090
          ],
          [
           5.877155300022094,
           1411
          ],
          [
           2.552855540466421,
           133
          ],
          [
           4.4642107030613225,
           765
          ],
          [
           5.071739967073771,
           263
          ],
          [
           12.094669045362675,
           442
          ],
          [
           7.751179589413891,
           681
          ],
          [
           5.915216741281282,
           524
          ],
          [
           2.731105435300272,
           44
          ],
          [
           4.522579435074448,
           447
          ],
          [
           5.004118585420151,
           8123
          ],
          [
           11.334527546708827,
           8286
          ],
          [
           7.509668204623651,
           11971
          ],
          [
           5.696913408367808,
           9332
          ],
          [
           2.5801101270205353,
           2041
          ],
          [
           4.4419582323295,
           15751
          ],
          [
           6.357370160934459,
           55504
          ]
         ],
         "domain": {
          "x": [
           0,
           1
          ],
          "y": [
           0,
           1
          ]
         },
         "hovertemplate": "<b>%{parent}</b><br>Age Group: %{label}<br>Size of Population: %{value}<br>Mean GHGs: %{customdata[0]:.2f}<extra></extra>",
         "ids": [
          "All/Fish-eaters/20-29/Female",
          "All/High meat-eaters (>=100g/d)/20-29/Female",
          "All/Low meat-eaters (<50g/d)/20-29/Female",
          "All/Medium meat-eaters (50-99g/d)/20-29/Female",
          "All/Vegans/20-29/Female",
          "All/Vegetarians/20-29/Female",
          "All/Fish-eaters/30-39/Female",
          "All/High meat-eaters (>=100g/d)/30-39/Female",
          "All/Low meat-eaters (<50g/d)/30-39/Female",
          "All/Medium meat-eaters (50-99g/d)/30-39/Female",
          "All/Vegans/30-39/Female",
          "All/Vegetarians/30-39/Female",
          "All/Fish-eaters/40-49/Female",
          "All/High meat-eaters (>=100g/d)/40-49/Female",
          "All/Low meat-eaters (<50g/d)/40-49/Female",
          "All/Medium meat-eaters (50-99g/d)/40-49/Female",
          "All/Vegans/40-49/Female",
          "All/Vegetarians/40-49/Female",
          "All/Fish-eaters/50-59/Female",
          "All/High meat-eaters (>=100g/d)/50-59/Female",
          "All/Low meat-eaters (<50g/d)/50-59/Female",
          "All/Medium meat-eaters (50-99g/d)/50-59/Female",
          "All/Vegans/50-59/Female",
          "All/Vegetarians/50-59/Female",
          "All/Fish-eaters/60-69/Female",
          "All/High meat-eaters (>=100g/d)/60-69/Female",
          "All/Low meat-eaters (<50g/d)/60-69/Female",
          "All/Medium meat-eaters (50-99g/d)/60-69/Female",
          "All/Vegans/60-69/Female",
          "All/Vegetarians/60-69/Female",
          "All/Fish-eaters/70-79/Female",
          "All/High meat-eaters (>=100g/d)/70-79/Female",
          "All/Low meat-eaters (<50g/d)/70-79/Female",
          "All/Medium meat-eaters (50-99g/d)/70-79/Female",
          "All/Vegans/70-79/Female",
          "All/Vegetarians/70-79/Female",
          "All/Fish-eaters/20-29/Male",
          "All/High meat-eaters (>=100g/d)/20-29/Male",
          "All/Low meat-eaters (<50g/d)/20-29/Male",
          "All/Medium meat-eaters (50-99g/d)/20-29/Male",
          "All/Vegans/20-29/Male",
          "All/Vegetarians/20-29/Male",
          "All/Fish-eaters/30-39/Male",
          "All/High meat-eaters (>=100g/d)/30-39/Male",
          "All/Low meat-eaters (<50g/d)/30-39/Male",
          "All/Medium meat-eaters (50-99g/d)/30-39/Male",
          "All/Vegans/30-39/Male",
          "All/Vegetarians/30-39/Male",
          "All/Fish-eaters/40-49/Male",
          "All/High meat-eaters (>=100g/d)/40-49/Male",
          "All/Low meat-eaters (<50g/d)/40-49/Male",
          "All/Medium meat-eaters (50-99g/d)/40-49/Male",
          "All/Vegans/40-49/Male",
          "All/Vegetarians/40-49/Male",
          "All/Fish-eaters/50-59/Male",
          "All/High meat-eaters (>=100g/d)/50-59/Male",
          "All/Low meat-eaters (<50g/d)/50-59/Male",
          "All/Medium meat-eaters (50-99g/d)/50-59/Male",
          "All/Vegans/50-59/Male",
          "All/Vegetarians/50-59/Male",
          "All/Fish-eaters/60-69/Male",
          "All/High meat-eaters (>=100g/d)/60-69/Male",
          "All/Low meat-eaters (<50g/d)/60-69/Male",
          "All/Medium meat-eaters (50-99g/d)/60-69/Male",
          "All/Vegans/60-69/Male",
          "All/Vegetarians/60-69/Male",
          "All/Fish-eaters/70-79/Male",
          "All/High meat-eaters (>=100g/d)/70-79/Male",
          "All/Low meat-eaters (<50g/d)/70-79/Male",
          "All/Medium meat-eaters (50-99g/d)/70-79/Male",
          "All/Vegans/70-79/Male",
          "All/Vegetarians/70-79/Male",
          "All/Fish-eaters/20-29",
          "All/High meat-eaters (>=100g/d)/20-29",
          "All/Low meat-eaters (<50g/d)/20-29",
          "All/Medium meat-eaters (50-99g/d)/20-29",
          "All/Vegans/20-29",
          "All/Vegetarians/20-29",
          "All/Fish-eaters/30-39",
          "All/High meat-eaters (>=100g/d)/30-39",
          "All/Low meat-eaters (<50g/d)/30-39",
          "All/Medium meat-eaters (50-99g/d)/30-39",
          "All/Vegans/30-39",
          "All/Vegetarians/30-39",
          "All/Fish-eaters/40-49",
          "All/High meat-eaters (>=100g/d)/40-49",
          "All/Low meat-eaters (<50g/d)/40-49",
          "All/Medium meat-eaters (50-99g/d)/40-49",
          "All/Vegans/40-49",
          "All/Vegetarians/40-49",
          "All/Fish-eaters/50-59",
          "All/High meat-eaters (>=100g/d)/50-59",
          "All/Low meat-eaters (<50g/d)/50-59",
          "All/Medium meat-eaters (50-99g/d)/50-59",
          "All/Vegans/50-59",
          "All/Vegetarians/50-59",
          "All/Fish-eaters/60-69",
          "All/High meat-eaters (>=100g/d)/60-69",
          "All/Low meat-eaters (<50g/d)/60-69",
          "All/Medium meat-eaters (50-99g/d)/60-69",
          "All/Vegans/60-69",
          "All/Vegetarians/60-69",
          "All/Fish-eaters/70-79",
          "All/High meat-eaters (>=100g/d)/70-79",
          "All/Low meat-eaters (<50g/d)/70-79",
          "All/Medium meat-eaters (50-99g/d)/70-79",
          "All/Vegans/70-79",
          "All/Vegetarians/70-79",
          "All/Fish-eaters",
          "All/High meat-eaters (>=100g/d)",
          "All/Low meat-eaters (<50g/d)",
          "All/Medium meat-eaters (50-99g/d)",
          "All/Vegans",
          "All/Vegetarians",
          "All"
         ],
         "labels": [
          "Female",
          "Female",
          "Female",
          "Female",
          "Female",
          "Female",
          "Female",
          "Female",
          "Female",
          "Female",
          "Female",
          "Female",
          "Female",
          "Female",
          "Female",
          "Female",
          "Female",
          "Female",
          "Female",
          "Female",
          "Female",
          "Female",
          "Female",
          "Female",
          "Female",
          "Female",
          "Female",
          "Female",
          "Female",
          "Female",
          "Female",
          "Female",
          "Female",
          "Female",
          "Female",
          "Female",
          "Male",
          "Male",
          "Male",
          "Male",
          "Male",
          "Male",
          "Male",
          "Male",
          "Male",
          "Male",
          "Male",
          "Male",
          "Male",
          "Male",
          "Male",
          "Male",
          "Male",
          "Male",
          "Male",
          "Male",
          "Male",
          "Male",
          "Male",
          "Male",
          "Male",
          "Male",
          "Male",
          "Male",
          "Male",
          "Male",
          "Male",
          "Male",
          "Male",
          "Male",
          "Male",
          "Male",
          "20-29",
          "20-29",
          "20-29",
          "20-29",
          "20-29",
          "20-29",
          "30-39",
          "30-39",
          "30-39",
          "30-39",
          "30-39",
          "30-39",
          "40-49",
          "40-49",
          "40-49",
          "40-49",
          "40-49",
          "40-49",
          "50-59",
          "50-59",
          "50-59",
          "50-59",
          "50-59",
          "50-59",
          "60-69",
          "60-69",
          "60-69",
          "60-69",
          "60-69",
          "60-69",
          "70-79",
          "70-79",
          "70-79",
          "70-79",
          "70-79",
          "70-79",
          "Fish-eaters",
          "High meat-eaters (>=100g/d)",
          "Low meat-eaters (<50g/d)",
          "Medium meat-eaters (50-99g/d)",
          "Vegans",
          "Vegetarians",
          "All"
         ],
         "marker": {
          "coloraxis": "coloraxis",
          "colors": [
           4.902947125081,
           10.191268743064,
           6.913346378262,
           5.386157689429999,
           2.383216383473,
           4.319955997758,
           4.942664483793,
           10.421548409817,
           7.135581666559999,
           5.489000437973,
           2.540393020847,
           4.367724164195001,
           4.927040172677,
           11.242124224869002,
           7.484151329541,
           5.604987137323,
           2.657602421868,
           4.386548303825,
           4.9443203337909996,
           11.574401589788,
           7.586115661521999,
           5.74381054721,
           2.520496825096,
           4.370471444328,
           5.103822518681,
           11.520473391645,
           7.541230540435001,
           5.861660341356,
           2.633644804226,
           4.472485087662,
           4.990762890714,
           11.990853394399,
           7.611196494765,
           5.836041361839999,
           2.8398755941779994,
           4.4734452564780005,
           5.659688871226,
           12.104782205645,
           7.387087141032999,
           5.842741220846,
           2.8432283088599997,
           4.899777121339,
           5.327205952942,
           11.178862348943,
           7.594977983203001,
           5.923054206146999,
           2.6981724183040003,
           4.807758162692999,
           5.2018026093489995,
           11.493864090237999,
           7.781512620765,
           5.8985248148350005,
           2.694366019617,
           4.610379492209,
           5.142355789303,
           11.678040095756,
           7.752900129514,
           5.932798636723,
           2.524737409503,
           4.455095310198001,
           5.153826680613,
           11.450175664626,
           7.835827297245,
           5.921724590470999,
           2.427010725764,
           4.44484358452,
           5.303953641929,
           12.263987428482002,
           8.023873929639,
           6.126166528464,
           2.587986805198,
           4.612451445292001,
           4.985620653647779,
           10.67238069937008,
           7.000584006528367,
           5.452987234251783,
           2.5161833341688045,
           4.40512299317258,
           5.007701875126903,
           10.611241689366866,
           7.220017265265847,
           5.575670645325607,
           2.603555108186246,
           4.478389769172561,
           4.983003101786997,
           11.302912839948304,
           7.54260094000098,
           5.656740336663959,
           2.6733992802757736,
           4.445367492240921,
           4.980854460928558,
           11.600532288178396,
           7.619492451865761,
           5.780568192703516,
           2.5220618026747736,
           4.392601442400818,
           5.116035516756558,
           11.49293250725011,
           7.630596255180235,
           5.877155300022094,
           2.552855540466421,
           4.4642107030613225,
           5.071739967073771,
           12.094669045362675,
           7.751179589413891,
           5.915216741281282,
           2.731105435300272,
           4.522579435074448,
           5.004118585420151,
           11.334527546708827,
           7.509668204623651,
           5.696913408367808,
           2.5801101270205353,
           4.4419582323295,
           6.357370160934459
          ]
         },
         "name": "",
         "parents": [
          "All/Fish-eaters/20-29",
          "All/High meat-eaters (>=100g/d)/20-29",
          "All/Low meat-eaters (<50g/d)/20-29",
          "All/Medium meat-eaters (50-99g/d)/20-29",
          "All/Vegans/20-29",
          "All/Vegetarians/20-29",
          "All/Fish-eaters/30-39",
          "All/High meat-eaters (>=100g/d)/30-39",
          "All/Low meat-eaters (<50g/d)/30-39",
          "All/Medium meat-eaters (50-99g/d)/30-39",
          "All/Vegans/30-39",
          "All/Vegetarians/30-39",
          "All/Fish-eaters/40-49",
          "All/High meat-eaters (>=100g/d)/40-49",
          "All/Low meat-eaters (<50g/d)/40-49",
          "All/Medium meat-eaters (50-99g/d)/40-49",
          "All/Vegans/40-49",
          "All/Vegetarians/40-49",
          "All/Fish-eaters/50-59",
          "All/High meat-eaters (>=100g/d)/50-59",
          "All/Low meat-eaters (<50g/d)/50-59",
          "All/Medium meat-eaters (50-99g/d)/50-59",
          "All/Vegans/50-59",
          "All/Vegetarians/50-59",
          "All/Fish-eaters/60-69",
          "All/High meat-eaters (>=100g/d)/60-69",
          "All/Low meat-eaters (<50g/d)/60-69",
          "All/Medium meat-eaters (50-99g/d)/60-69",
          "All/Vegans/60-69",
          "All/Vegetarians/60-69",
          "All/Fish-eaters/70-79",
          "All/High meat-eaters (>=100g/d)/70-79",
          "All/Low meat-eaters (<50g/d)/70-79",
          "All/Medium meat-eaters (50-99g/d)/70-79",
          "All/Vegans/70-79",
          "All/Vegetarians/70-79",
          "All/Fish-eaters/20-29",
          "All/High meat-eaters (>=100g/d)/20-29",
          "All/Low meat-eaters (<50g/d)/20-29",
          "All/Medium meat-eaters (50-99g/d)/20-29",
          "All/Vegans/20-29",
          "All/Vegetarians/20-29",
          "All/Fish-eaters/30-39",
          "All/High meat-eaters (>=100g/d)/30-39",
          "All/Low meat-eaters (<50g/d)/30-39",
          "All/Medium meat-eaters (50-99g/d)/30-39",
          "All/Vegans/30-39",
          "All/Vegetarians/30-39",
          "All/Fish-eaters/40-49",
          "All/High meat-eaters (>=100g/d)/40-49",
          "All/Low meat-eaters (<50g/d)/40-49",
          "All/Medium meat-eaters (50-99g/d)/40-49",
          "All/Vegans/40-49",
          "All/Vegetarians/40-49",
          "All/Fish-eaters/50-59",
          "All/High meat-eaters (>=100g/d)/50-59",
          "All/Low meat-eaters (<50g/d)/50-59",
          "All/Medium meat-eaters (50-99g/d)/50-59",
          "All/Vegans/50-59",
          "All/Vegetarians/50-59",
          "All/Fish-eaters/60-69",
          "All/High meat-eaters (>=100g/d)/60-69",
          "All/Low meat-eaters (<50g/d)/60-69",
          "All/Medium meat-eaters (50-99g/d)/60-69",
          "All/Vegans/60-69",
          "All/Vegetarians/60-69",
          "All/Fish-eaters/70-79",
          "All/High meat-eaters (>=100g/d)/70-79",
          "All/Low meat-eaters (<50g/d)/70-79",
          "All/Medium meat-eaters (50-99g/d)/70-79",
          "All/Vegans/70-79",
          "All/Vegetarians/70-79",
          "All/Fish-eaters",
          "All/High meat-eaters (>=100g/d)",
          "All/Low meat-eaters (<50g/d)",
          "All/Medium meat-eaters (50-99g/d)",
          "All/Vegans",
          "All/Vegetarians",
          "All/Fish-eaters",
          "All/High meat-eaters (>=100g/d)",
          "All/Low meat-eaters (<50g/d)",
          "All/Medium meat-eaters (50-99g/d)",
          "All/Vegans",
          "All/Vegetarians",
          "All/Fish-eaters",
          "All/High meat-eaters (>=100g/d)",
          "All/Low meat-eaters (<50g/d)",
          "All/Medium meat-eaters (50-99g/d)",
          "All/Vegans",
          "All/Vegetarians",
          "All/Fish-eaters",
          "All/High meat-eaters (>=100g/d)",
          "All/Low meat-eaters (<50g/d)",
          "All/Medium meat-eaters (50-99g/d)",
          "All/Vegans",
          "All/Vegetarians",
          "All/Fish-eaters",
          "All/High meat-eaters (>=100g/d)",
          "All/Low meat-eaters (<50g/d)",
          "All/Medium meat-eaters (50-99g/d)",
          "All/Vegans",
          "All/Vegetarians",
          "All/Fish-eaters",
          "All/High meat-eaters (>=100g/d)",
          "All/Low meat-eaters (<50g/d)",
          "All/Medium meat-eaters (50-99g/d)",
          "All/Vegans",
          "All/Vegetarians",
          "All",
          "All",
          "All",
          "All",
          "All",
          "All",
          ""
         ],
         "type": "treemap",
         "values": [
          1329,
          393,
          669,
          764,
          487,
          3752,
          2024,
          778,
          1350,
          1483,
          376,
          3634,
          1689,
          1935,
          2710,
          2093,
          219,
          2696,
          946,
          1753,
          2682,
          1698,
          106,
          1203,
          492,
          843,
          1456,
          1047,
          81,
          536,
          195,
          274,
          450,
          381,
          25,
          289,
          163,
          132,
          151,
          131,
          198,
          646,
          412,
          260,
          304,
          370,
          251,
          1221,
          432,
          616,
          663,
          448,
          165,
          961,
          214,
          591,
          671,
          410,
          62,
          426,
          159,
          543,
          634,
          364,
          52,
          229,
          68,
          168,
          231,
          143,
          19,
          158,
          1492,
          525,
          820,
          895,
          685,
          4398,
          2436,
          1038,
          1654,
          1853,
          627,
          4855,
          2121,
          2551,
          3373,
          2541,
          384,
          3657,
          1160,
          2344,
          3353,
          2108,
          168,
          1629,
          651,
          1386,
          2090,
          1411,
          133,
          765,
          263,
          442,
          681,
          524,
          44,
          447,
          8123,
          8286,
          11971,
          9332,
          2041,
          15751,
          55504
         ]
        }
       ],
       "layout": {
        "coloraxis": {
         "cmid": 6.173568159026445,
         "colorbar": {
          "thickness": 50,
          "title": {
           "font": {
            "size": 15
           },
           "text": "Mean GHG (kg/d)"
          }
         },
         "colorscale": [
          [
           0,
           "rgb(0,104,55)"
          ],
          [
           0.1,
           "rgb(26,152,80)"
          ],
          [
           0.2,
           "rgb(102,189,99)"
          ],
          [
           0.3,
           "rgb(166,217,106)"
          ],
          [
           0.4,
           "rgb(217,239,139)"
          ],
          [
           0.5,
           "rgb(255,255,191)"
          ],
          [
           0.6,
           "rgb(254,224,139)"
          ],
          [
           0.7,
           "rgb(253,174,97)"
          ],
          [
           0.8,
           "rgb(244,109,67)"
          ],
          [
           0.9,
           "rgb(215,48,39)"
          ],
          [
           1,
           "rgb(165,0,38)"
          ]
         ]
        },
        "legend": {
         "tracegroupgap": 0
        },
        "margin": {
         "b": 25,
         "l": 25,
         "r": 25,
         "t": 50
        },
        "template": {
         "data": {
          "bar": [
           {
            "error_x": {
             "color": "#2a3f5f"
            },
            "error_y": {
             "color": "#2a3f5f"
            },
            "marker": {
             "line": {
              "color": "#E5ECF6",
              "width": 0.5
             },
             "pattern": {
              "fillmode": "overlay",
              "size": 10,
              "solidity": 0.2
             }
            },
            "type": "bar"
           }
          ],
          "barpolar": [
           {
            "marker": {
             "line": {
              "color": "#E5ECF6",
              "width": 0.5
             },
             "pattern": {
              "fillmode": "overlay",
              "size": 10,
              "solidity": 0.2
             }
            },
            "type": "barpolar"
           }
          ],
          "carpet": [
           {
            "aaxis": {
             "endlinecolor": "#2a3f5f",
             "gridcolor": "white",
             "linecolor": "white",
             "minorgridcolor": "white",
             "startlinecolor": "#2a3f5f"
            },
            "baxis": {
             "endlinecolor": "#2a3f5f",
             "gridcolor": "white",
             "linecolor": "white",
             "minorgridcolor": "white",
             "startlinecolor": "#2a3f5f"
            },
            "type": "carpet"
           }
          ],
          "choropleth": [
           {
            "colorbar": {
             "outlinewidth": 0,
             "ticks": ""
            },
            "type": "choropleth"
           }
          ],
          "contour": [
           {
            "colorbar": {
             "outlinewidth": 0,
             "ticks": ""
            },
            "colorscale": [
             [
              0,
              "#0d0887"
             ],
             [
              0.1111111111111111,
              "#46039f"
             ],
             [
              0.2222222222222222,
              "#7201a8"
             ],
             [
              0.3333333333333333,
              "#9c179e"
             ],
             [
              0.4444444444444444,
              "#bd3786"
             ],
             [
              0.5555555555555556,
              "#d8576b"
             ],
             [
              0.6666666666666666,
              "#ed7953"
             ],
             [
              0.7777777777777778,
              "#fb9f3a"
             ],
             [
              0.8888888888888888,
              "#fdca26"
             ],
             [
              1,
              "#f0f921"
             ]
            ],
            "type": "contour"
           }
          ],
          "contourcarpet": [
           {
            "colorbar": {
             "outlinewidth": 0,
             "ticks": ""
            },
            "type": "contourcarpet"
           }
          ],
          "heatmap": [
           {
            "colorbar": {
             "outlinewidth": 0,
             "ticks": ""
            },
            "colorscale": [
             [
              0,
              "#0d0887"
             ],
             [
              0.1111111111111111,
              "#46039f"
             ],
             [
              0.2222222222222222,
              "#7201a8"
             ],
             [
              0.3333333333333333,
              "#9c179e"
             ],
             [
              0.4444444444444444,
              "#bd3786"
             ],
             [
              0.5555555555555556,
              "#d8576b"
             ],
             [
              0.6666666666666666,
              "#ed7953"
             ],
             [
              0.7777777777777778,
              "#fb9f3a"
             ],
             [
              0.8888888888888888,
              "#fdca26"
             ],
             [
              1,
              "#f0f921"
             ]
            ],
            "type": "heatmap"
           }
          ],
          "heatmapgl": [
           {
            "colorbar": {
             "outlinewidth": 0,
             "ticks": ""
            },
            "colorscale": [
             [
              0,
              "#0d0887"
             ],
             [
              0.1111111111111111,
              "#46039f"
             ],
             [
              0.2222222222222222,
              "#7201a8"
             ],
             [
              0.3333333333333333,
              "#9c179e"
             ],
             [
              0.4444444444444444,
              "#bd3786"
             ],
             [
              0.5555555555555556,
              "#d8576b"
             ],
             [
              0.6666666666666666,
              "#ed7953"
             ],
             [
              0.7777777777777778,
              "#fb9f3a"
             ],
             [
              0.8888888888888888,
              "#fdca26"
             ],
             [
              1,
              "#f0f921"
             ]
            ],
            "type": "heatmapgl"
           }
          ],
          "histogram": [
           {
            "marker": {
             "pattern": {
              "fillmode": "overlay",
              "size": 10,
              "solidity": 0.2
             }
            },
            "type": "histogram"
           }
          ],
          "histogram2d": [
           {
            "colorbar": {
             "outlinewidth": 0,
             "ticks": ""
            },
            "colorscale": [
             [
              0,
              "#0d0887"
             ],
             [
              0.1111111111111111,
              "#46039f"
             ],
             [
              0.2222222222222222,
              "#7201a8"
             ],
             [
              0.3333333333333333,
              "#9c179e"
             ],
             [
              0.4444444444444444,
              "#bd3786"
             ],
             [
              0.5555555555555556,
              "#d8576b"
             ],
             [
              0.6666666666666666,
              "#ed7953"
             ],
             [
              0.7777777777777778,
              "#fb9f3a"
             ],
             [
              0.8888888888888888,
              "#fdca26"
             ],
             [
              1,
              "#f0f921"
             ]
            ],
            "type": "histogram2d"
           }
          ],
          "histogram2dcontour": [
           {
            "colorbar": {
             "outlinewidth": 0,
             "ticks": ""
            },
            "colorscale": [
             [
              0,
              "#0d0887"
             ],
             [
              0.1111111111111111,
              "#46039f"
             ],
             [
              0.2222222222222222,
              "#7201a8"
             ],
             [
              0.3333333333333333,
              "#9c179e"
             ],
             [
              0.4444444444444444,
              "#bd3786"
             ],
             [
              0.5555555555555556,
              "#d8576b"
             ],
             [
              0.6666666666666666,
              "#ed7953"
             ],
             [
              0.7777777777777778,
              "#fb9f3a"
             ],
             [
              0.8888888888888888,
              "#fdca26"
             ],
             [
              1,
              "#f0f921"
             ]
            ],
            "type": "histogram2dcontour"
           }
          ],
          "mesh3d": [
           {
            "colorbar": {
             "outlinewidth": 0,
             "ticks": ""
            },
            "type": "mesh3d"
           }
          ],
          "parcoords": [
           {
            "line": {
             "colorbar": {
              "outlinewidth": 0,
              "ticks": ""
             }
            },
            "type": "parcoords"
           }
          ],
          "pie": [
           {
            "automargin": true,
            "type": "pie"
           }
          ],
          "scatter": [
           {
            "fillpattern": {
             "fillmode": "overlay",
             "size": 10,
             "solidity": 0.2
            },
            "type": "scatter"
           }
          ],
          "scatter3d": [
           {
            "line": {
             "colorbar": {
              "outlinewidth": 0,
              "ticks": ""
             }
            },
            "marker": {
             "colorbar": {
              "outlinewidth": 0,
              "ticks": ""
             }
            },
            "type": "scatter3d"
           }
          ],
          "scattercarpet": [
           {
            "marker": {
             "colorbar": {
              "outlinewidth": 0,
              "ticks": ""
             }
            },
            "type": "scattercarpet"
           }
          ],
          "scattergeo": [
           {
            "marker": {
             "colorbar": {
              "outlinewidth": 0,
              "ticks": ""
             }
            },
            "type": "scattergeo"
           }
          ],
          "scattergl": [
           {
            "marker": {
             "colorbar": {
              "outlinewidth": 0,
              "ticks": ""
             }
            },
            "type": "scattergl"
           }
          ],
          "scattermapbox": [
           {
            "marker": {
             "colorbar": {
              "outlinewidth": 0,
              "ticks": ""
             }
            },
            "type": "scattermapbox"
           }
          ],
          "scatterpolar": [
           {
            "marker": {
             "colorbar": {
              "outlinewidth": 0,
              "ticks": ""
             }
            },
            "type": "scatterpolar"
           }
          ],
          "scatterpolargl": [
           {
            "marker": {
             "colorbar": {
              "outlinewidth": 0,
              "ticks": ""
             }
            },
            "type": "scatterpolargl"
           }
          ],
          "scatterternary": [
           {
            "marker": {
             "colorbar": {
              "outlinewidth": 0,
              "ticks": ""
             }
            },
            "type": "scatterternary"
           }
          ],
          "surface": [
           {
            "colorbar": {
             "outlinewidth": 0,
             "ticks": ""
            },
            "colorscale": [
             [
              0,
              "#0d0887"
             ],
             [
              0.1111111111111111,
              "#46039f"
             ],
             [
              0.2222222222222222,
              "#7201a8"
             ],
             [
              0.3333333333333333,
              "#9c179e"
             ],
             [
              0.4444444444444444,
              "#bd3786"
             ],
             [
              0.5555555555555556,
              "#d8576b"
             ],
             [
              0.6666666666666666,
              "#ed7953"
             ],
             [
              0.7777777777777778,
              "#fb9f3a"
             ],
             [
              0.8888888888888888,
              "#fdca26"
             ],
             [
              1,
              "#f0f921"
             ]
            ],
            "type": "surface"
           }
          ],
          "table": [
           {
            "cells": {
             "fill": {
              "color": "#EBF0F8"
             },
             "line": {
              "color": "white"
             }
            },
            "header": {
             "fill": {
              "color": "#C8D4E3"
             },
             "line": {
              "color": "white"
             }
            },
            "type": "table"
           }
          ]
         },
         "layout": {
          "annotationdefaults": {
           "arrowcolor": "#2a3f5f",
           "arrowhead": 0,
           "arrowwidth": 1
          },
          "autotypenumbers": "strict",
          "coloraxis": {
           "colorbar": {
            "outlinewidth": 0,
            "ticks": ""
           }
          },
          "colorscale": {
           "diverging": [
            [
             0,
             "#8e0152"
            ],
            [
             0.1,
             "#c51b7d"
            ],
            [
             0.2,
             "#de77ae"
            ],
            [
             0.3,
             "#f1b6da"
            ],
            [
             0.4,
             "#fde0ef"
            ],
            [
             0.5,
             "#f7f7f7"
            ],
            [
             0.6,
             "#e6f5d0"
            ],
            [
             0.7,
             "#b8e186"
            ],
            [
             0.8,
             "#7fbc41"
            ],
            [
             0.9,
             "#4d9221"
            ],
            [
             1,
             "#276419"
            ]
           ],
           "sequential": [
            [
             0,
             "#0d0887"
            ],
            [
             0.1111111111111111,
             "#46039f"
            ],
            [
             0.2222222222222222,
             "#7201a8"
            ],
            [
             0.3333333333333333,
             "#9c179e"
            ],
            [
             0.4444444444444444,
             "#bd3786"
            ],
            [
             0.5555555555555556,
             "#d8576b"
            ],
            [
             0.6666666666666666,
             "#ed7953"
            ],
            [
             0.7777777777777778,
             "#fb9f3a"
            ],
            [
             0.8888888888888888,
             "#fdca26"
            ],
            [
             1,
             "#f0f921"
            ]
           ],
           "sequentialminus": [
            [
             0,
             "#0d0887"
            ],
            [
             0.1111111111111111,
             "#46039f"
            ],
            [
             0.2222222222222222,
             "#7201a8"
            ],
            [
             0.3333333333333333,
             "#9c179e"
            ],
            [
             0.4444444444444444,
             "#bd3786"
            ],
            [
             0.5555555555555556,
             "#d8576b"
            ],
            [
             0.6666666666666666,
             "#ed7953"
            ],
            [
             0.7777777777777778,
             "#fb9f3a"
            ],
            [
             0.8888888888888888,
             "#fdca26"
            ],
            [
             1,
             "#f0f921"
            ]
           ]
          },
          "colorway": [
           "#636efa",
           "#EF553B",
           "#00cc96",
           "#ab63fa",
           "#FFA15A",
           "#19d3f3",
           "#FF6692",
           "#B6E880",
           "#FF97FF",
           "#FECB52"
          ],
          "font": {
           "color": "#2a3f5f"
          },
          "geo": {
           "bgcolor": "white",
           "lakecolor": "white",
           "landcolor": "#E5ECF6",
           "showlakes": true,
           "showland": true,
           "subunitcolor": "white"
          },
          "hoverlabel": {
           "align": "left"
          },
          "hovermode": "closest",
          "mapbox": {
           "style": "light"
          },
          "paper_bgcolor": "white",
          "plot_bgcolor": "#E5ECF6",
          "polar": {
           "angularaxis": {
            "gridcolor": "white",
            "linecolor": "white",
            "ticks": ""
           },
           "bgcolor": "#E5ECF6",
           "radialaxis": {
            "gridcolor": "white",
            "linecolor": "white",
            "ticks": ""
           }
          },
          "scene": {
           "xaxis": {
            "backgroundcolor": "#E5ECF6",
            "gridcolor": "white",
            "gridwidth": 2,
            "linecolor": "white",
            "showbackground": true,
            "ticks": "",
            "zerolinecolor": "white"
           },
           "yaxis": {
            "backgroundcolor": "#E5ECF6",
            "gridcolor": "white",
            "gridwidth": 2,
            "linecolor": "white",
            "showbackground": true,
            "ticks": "",
            "zerolinecolor": "white"
           },
           "zaxis": {
            "backgroundcolor": "#E5ECF6",
            "gridcolor": "white",
            "gridwidth": 2,
            "linecolor": "white",
            "showbackground": true,
            "ticks": "",
            "zerolinecolor": "white"
           }
          },
          "shapedefaults": {
           "line": {
            "color": "#2a3f5f"
           }
          },
          "ternary": {
           "aaxis": {
            "gridcolor": "white",
            "linecolor": "white",
            "ticks": ""
           },
           "baxis": {
            "gridcolor": "white",
            "linecolor": "white",
            "ticks": ""
           },
           "bgcolor": "#E5ECF6",
           "caxis": {
            "gridcolor": "white",
            "linecolor": "white",
            "ticks": ""
           }
          },
          "title": {
           "x": 0.05
          },
          "xaxis": {
           "automargin": true,
           "gridcolor": "white",
           "linecolor": "white",
           "ticks": "",
           "title": {
            "standoff": 15
           },
           "zerolinecolor": "white",
           "zerolinewidth": 2
          },
          "yaxis": {
           "automargin": true,
           "gridcolor": "white",
           "linecolor": "white",
           "ticks": "",
           "title": {
            "standoff": 15
           },
           "zerolinecolor": "white",
           "zerolinewidth": 2
          }
         }
        },
        "title": {
         "text": "Treemap of Greenhouse Gas Emissions by Diet, Age Group, and Sex"
        }
       }
      }
     },
     "metadata": {},
     "output_type": "display_data"
    }
   ],
   "source": [
    "# aggregate by diet_group -> age_group -> sex and calculate means\n",
    "agg_df = df.groupby([\"diet_group\", \"age_group\", \"sex\"]).agg({\n",
    "    \"mean_ghgs\": \"mean\",\n",
    "    \"n_participants\": \"mean\"  # area of treemap\n",
    "}).reset_index()\n",
    "\n",
    "# create root node of treemap\n",
    "agg_df[\"All\"] = \"All Groups\"\n",
    "# create treemap\n",
    "fig = px.treemap(\n",
    "    agg_df,\n",
    "    path=[px.Constant(\"All\"), \"diet_group\", \"age_group\", \"sex\"],\n",
    "    values=\"n_participants\",  # area: size of population\n",
    "    color=\"mean_ghgs\",  # color: greenhouse gas emissions per capita\n",
    "    color_continuous_scale=\"RdYlGn_r\",\n",
    "    color_continuous_midpoint=agg_df[\"mean_ghgs\"].mean(),\n",
    "    hover_data={\"mean_ghgs\": True, \"n_participants\": True}\n",
    ")\n",
    "\n",
    "# custom hover-over and text and values\n",
    "fig.update_traces(hovertemplate=\"<b>%{parent}</b><br>Age Group: %{label}<br>Size of Population: %{value}<br>Mean GHGs: %{customdata[0]:.2f}<extra></extra>\")\n",
    "\n",
    "# custom treemap title and colorbar\n",
    "fig.update_layout(\n",
    "    title=\"Treemap of Greenhouse Gas Emissions by Diet, Age Group, and Sex\",\n",
    "    coloraxis_colorbar=dict(title=\"Mean GHG (kg/d)\",\n",
    "                            title_font=dict(size=15),\n",
    "                            thickness=50),\n",
    "    margin=dict(t=50, l=25, r=25, b=25)\n",
    ")\n",
    "fig.show()\n",
    "fig.write_html(\"./treemap_mean_ghgs.html\")  # save treemap as html file\n"
   ]
  }
 ],
 "metadata": {
  "kernelspec": {
   "display_name": "Python 3",
   "language": "python",
   "name": "python3"
  },
  "language_info": {
   "codemirror_mode": {
    "name": "ipython",
    "version": 3
   },
   "file_extension": ".py",
   "mimetype": "text/x-python",
   "name": "python",
   "nbconvert_exporter": "python",
   "pygments_lexer": "ipython3",
   "version": "3.12.3"
  }
 },
 "nbformat": 4,
 "nbformat_minor": 5
}
